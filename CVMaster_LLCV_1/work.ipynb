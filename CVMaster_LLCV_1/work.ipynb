{
 "cells": [
  {
   "cell_type": "code",
   "execution_count": 1,
   "source": [
    "import numpy as np\r\n",
    "import rawpy\r\n",
    "import matplotlib.pyplot as plt"
   ],
   "outputs": [],
   "metadata": {}
  },
  {
   "cell_type": "code",
   "execution_count": 2,
   "source": [
    "def pack_raw(raw):\r\n",
    "    im = raw.raw_image_visible.astype(np.float32)\r\n",
    "    im = np.maximum(im - 512, 0) / (16383 - 512)  # subtract the black level\r\n",
    "\r\n",
    "    im = np.expand_dims(im, axis=2)\r\n",
    "    img_shape = im.shape\r\n",
    "    H = img_shape[0]\r\n",
    "    W = img_shape[1]\r\n",
    "\r\n",
    "    out = np.concatenate((im[0:H:2, 0:W:2, :],\r\n",
    "                          im[0:H:2, 1:W:2, :],\r\n",
    "                          im[1:H:2, 1:W:2, :],\r\n",
    "                          im[1:H:2, 0:W:2, :]), axis=2)\r\n",
    "    return out"
   ],
   "outputs": [],
   "metadata": {}
  },
  {
   "cell_type": "code",
   "execution_count": 3,
   "source": [
    "input_images = pack_raw(rawpy.imread('train.ARW'))\r\n",
    "gt_images = pack_raw(rawpy.imread('groundtruth.ARW'))"
   ],
   "outputs": [],
   "metadata": {}
  },
  {
   "cell_type": "code",
   "execution_count": 4,
   "source": [
    "ps = 224\r\n",
    "W = input_images.shape[1]\r\n",
    "H = input_images.shape[0]"
   ],
   "outputs": [],
   "metadata": {}
  },
  {
   "cell_type": "code",
   "execution_count": 5,
   "source": [
    "xx = np.random.randint(0, W - ps)\r\n",
    "yy = np.random.randint(0, H - ps)\r\n",
    "input_patch = np.expand_dims(input_images[yy:yy+ps,xx:xx+ps,:],0)\r\n",
    "gt_patch = np.expand_dims(gt_images[yy:yy+ps,xx:xx+ps,:],0)\r\n",
    "\r\n",
    "if np.random.randint(2, size=1)[0] == 1:  # random flip\r\n",
    "    input_patch = np.flip(input_patch, axis=1)\r\n",
    "    gt_patch = np.flip(gt_patch, axis=1)\r\n",
    "if np.random.randint(2, size=1)[0] == 1:\r\n",
    "    input_patch = np.flip(input_patch, axis=2)\r\n",
    "    gt_patch = np.flip(gt_patch, axis=2)\r\n",
    "if np.random.randint(2, size=1)[0] == 1:  # random transpose\r\n",
    "    input_patch = np.transpose(input_patch, (0, 2, 1, 3))\r\n",
    "    gt_patch = np.transpose(gt_patch, (0, 2, 1, 3))"
   ],
   "outputs": [],
   "metadata": {}
  },
  {
   "cell_type": "code",
   "execution_count": null,
   "source": [],
   "outputs": [],
   "metadata": {}
  }
 ],
 "metadata": {
  "kernelspec": {
   "display_name": "Python 3",
   "language": "python",
   "name": "python3"
  },
  "language_info": {
   "codemirror_mode": {
    "name": "ipython",
    "version": 3
   },
   "file_extension": ".py",
   "mimetype": "text/x-python",
   "name": "python",
   "nbconvert_exporter": "python",
   "pygments_lexer": "ipython3",
   "version": "3.7.10"
  }
 },
 "nbformat": 4,
 "nbformat_minor": 4
}